{
 "cells": [
  {
   "cell_type": "code",
   "execution_count": 39,
   "id": "8f740f26",
   "metadata": {},
   "outputs": [],
   "source": [
    "import pandas as pd\n",
    "import numpy as np\n",
    "import string\n",
    "import re\n",
    "import nltk\n",
    "import json\n",
    "from nltk.stem import WordNetLemmatizer\n",
    "from nltk.corpus import stopwords  \n",
    "from sklearn.feature_extraction.text import CountVectorizer\n",
    "from sklearn.feature_extraction.text import TfidfVectorizer\n",
    "from sklearn.preprocessing import LabelEncoder, label_binarize\n",
    "from sklearn.linear_model import SGDClassifier\n",
    "from collections import Counter\n",
    "import nlpaug.augmenter.word as naw\n",
    "from tqdm import tqdm\n",
    "from sklearn.model_selection import train_test_split\n",
    "from sklearn.metrics import precision_score, recall_score, accuracy_score, roc_auc_score"
   ]
  },
  {
   "cell_type": "code",
   "execution_count": 2,
   "id": "6bac9240",
   "metadata": {},
   "outputs": [],
   "source": [
    "# nltk.download('punkt')\n",
    "# nltk.download('wordnet')\n",
    "# nltk.download('stopwords')"
   ]
  },
  {
   "cell_type": "markdown",
   "id": "2fddbd75",
   "metadata": {},
   "source": [
    "## Data Loading & Preprocessing"
   ]
  },
  {
   "cell_type": "code",
   "execution_count": 2,
   "id": "1840b22f",
   "metadata": {},
   "outputs": [],
   "source": [
    "faq_file = open(\"./faq.txt\").read()\n",
    "data = json.loads(faq_file)\n",
    "df = pd.json_normalize(data)"
   ]
  },
  {
   "cell_type": "code",
   "execution_count": 3,
   "id": "56c3c212",
   "metadata": {},
   "outputs": [
    {
     "data": {
      "text/html": [
       "<div>\n",
       "<style scoped>\n",
       "    .dataframe tbody tr th:only-of-type {\n",
       "        vertical-align: middle;\n",
       "    }\n",
       "\n",
       "    .dataframe tbody tr th {\n",
       "        vertical-align: top;\n",
       "    }\n",
       "\n",
       "    .dataframe thead th {\n",
       "        text-align: right;\n",
       "    }\n",
       "</style>\n",
       "<table border=\"1\" class=\"dataframe\">\n",
       "  <thead>\n",
       "    <tr style=\"text-align: right;\">\n",
       "      <th></th>\n",
       "      <th>question</th>\n",
       "      <th>answer</th>\n",
       "      <th>found_duplicate</th>\n",
       "    </tr>\n",
       "  </thead>\n",
       "  <tbody>\n",
       "    <tr>\n",
       "      <th>0</th>\n",
       "      <td>How do I change my password?</td>\n",
       "      <td>After you have logged in, you can change your ...</td>\n",
       "      <td>False</td>\n",
       "    </tr>\n",
       "    <tr>\n",
       "      <th>1</th>\n",
       "      <td>When will I receive my changed ATM PIN?</td>\n",
       "      <td>You will receive your new ATM PIN by post with...</td>\n",
       "      <td>False</td>\n",
       "    </tr>\n",
       "    <tr>\n",
       "      <th>2</th>\n",
       "      <td>Can I get my newly generated PIN online?</td>\n",
       "      <td>No, for security reasons we send you your ATM ...</td>\n",
       "      <td>False</td>\n",
       "    </tr>\n",
       "    <tr>\n",
       "      <th>3</th>\n",
       "      <td>How can I register for Autopay?</td>\n",
       "      <td>To register for Autopay: Step 1: Click on the ...</td>\n",
       "      <td>False</td>\n",
       "    </tr>\n",
       "    <tr>\n",
       "      <th>4</th>\n",
       "      <td>Can Chip Credit cards be used anywhere?</td>\n",
       "      <td>Yes, your HDFC Bank Chip Credit card can be us...</td>\n",
       "      <td>False</td>\n",
       "    </tr>\n",
       "  </tbody>\n",
       "</table>\n",
       "</div>"
      ],
      "text/plain": [
       "                                   question  \\\n",
       "0              How do I change my password?   \n",
       "1   When will I receive my changed ATM PIN?   \n",
       "2  Can I get my newly generated PIN online?   \n",
       "3           How can I register for Autopay?   \n",
       "4   Can Chip Credit cards be used anywhere?   \n",
       "\n",
       "                                              answer  found_duplicate  \n",
       "0  After you have logged in, you can change your ...            False  \n",
       "1  You will receive your new ATM PIN by post with...            False  \n",
       "2  No, for security reasons we send you your ATM ...            False  \n",
       "3  To register for Autopay: Step 1: Click on the ...            False  \n",
       "4  Yes, your HDFC Bank Chip Credit card can be us...            False  "
      ]
     },
     "execution_count": 3,
     "metadata": {},
     "output_type": "execute_result"
    }
   ],
   "source": [
    "df.head()"
   ]
  },
  {
   "cell_type": "code",
   "execution_count": 4,
   "id": "3a47d178",
   "metadata": {},
   "outputs": [],
   "source": [
    "df.drop([\"found_duplicate\"],axis=1,inplace=True)"
   ]
  },
  {
   "cell_type": "code",
   "execution_count": 5,
   "id": "f4a55ddd",
   "metadata": {},
   "outputs": [
    {
     "data": {
      "text/plain": [
       "question    0\n",
       "answer      0\n",
       "dtype: int64"
      ]
     },
     "execution_count": 5,
     "metadata": {},
     "output_type": "execute_result"
    }
   ],
   "source": [
    "df.isnull().sum()"
   ]
  },
  {
   "cell_type": "code",
   "execution_count": 6,
   "id": "1fc019ef",
   "metadata": {},
   "outputs": [
    {
     "data": {
      "text/html": [
       "<div>\n",
       "<style scoped>\n",
       "    .dataframe tbody tr th:only-of-type {\n",
       "        vertical-align: middle;\n",
       "    }\n",
       "\n",
       "    .dataframe tbody tr th {\n",
       "        vertical-align: top;\n",
       "    }\n",
       "\n",
       "    .dataframe thead th {\n",
       "        text-align: right;\n",
       "    }\n",
       "</style>\n",
       "<table border=\"1\" class=\"dataframe\">\n",
       "  <thead>\n",
       "    <tr style=\"text-align: right;\">\n",
       "      <th></th>\n",
       "      <th>question</th>\n",
       "      <th>answer</th>\n",
       "    </tr>\n",
       "  </thead>\n",
       "  <tbody>\n",
       "    <tr>\n",
       "      <th>0</th>\n",
       "      <td>How do I change my password?</td>\n",
       "      <td>After you have logged in, you can change your ...</td>\n",
       "    </tr>\n",
       "    <tr>\n",
       "      <th>1</th>\n",
       "      <td>When will I receive my changed ATM PIN?</td>\n",
       "      <td>You will receive your new ATM PIN by post with...</td>\n",
       "    </tr>\n",
       "    <tr>\n",
       "      <th>2</th>\n",
       "      <td>Can I get my newly generated PIN online?</td>\n",
       "      <td>No, for security reasons we send you your ATM ...</td>\n",
       "    </tr>\n",
       "    <tr>\n",
       "      <th>3</th>\n",
       "      <td>How can I register for Autopay?</td>\n",
       "      <td>To register for Autopay: Step 1: Click on the ...</td>\n",
       "    </tr>\n",
       "    <tr>\n",
       "      <th>4</th>\n",
       "      <td>Can Chip Credit cards be used anywhere?</td>\n",
       "      <td>Yes, your HDFC Bank Chip Credit card can be us...</td>\n",
       "    </tr>\n",
       "  </tbody>\n",
       "</table>\n",
       "</div>"
      ],
      "text/plain": [
       "                                   question  \\\n",
       "0              How do I change my password?   \n",
       "1   When will I receive my changed ATM PIN?   \n",
       "2  Can I get my newly generated PIN online?   \n",
       "3           How can I register for Autopay?   \n",
       "4   Can Chip Credit cards be used anywhere?   \n",
       "\n",
       "                                              answer  \n",
       "0  After you have logged in, you can change your ...  \n",
       "1  You will receive your new ATM PIN by post with...  \n",
       "2  No, for security reasons we send you your ATM ...  \n",
       "3  To register for Autopay: Step 1: Click on the ...  \n",
       "4  Yes, your HDFC Bank Chip Credit card can be us...  "
      ]
     },
     "execution_count": 6,
     "metadata": {},
     "output_type": "execute_result"
    }
   ],
   "source": [
    "df.head()"
   ]
  },
  {
   "cell_type": "code",
   "execution_count": 7,
   "id": "bafb60fe",
   "metadata": {},
   "outputs": [],
   "source": [
    "stop_words=stopwords.words('english')"
   ]
  },
  {
   "cell_type": "code",
   "execution_count": 8,
   "id": "6861605b",
   "metadata": {},
   "outputs": [],
   "source": [
    "lemmatizer = WordNetLemmatizer()"
   ]
  },
  {
   "cell_type": "code",
   "execution_count": 9,
   "id": "59c17eb1",
   "metadata": {},
   "outputs": [],
   "source": [
    "def clean_data(text):\n",
    "    text=text.lower() #lower the text\n",
    "    text = re.sub(r'[^\\w\\s]', '', text) #remove irrelevant characters    \n",
    "    text = text.split() #convert sentence to tokens\n",
    "    text = [lemmatizer.lemmatize(word) for word in text] #lemmatization\n",
    "    text = \" \".join(text) #converting tokens to sentence\n",
    "    return text"
   ]
  },
  {
   "cell_type": "code",
   "execution_count": 12,
   "id": "d6f22288",
   "metadata": {},
   "outputs": [],
   "source": [
    "df[\"question\"] = df[\"question\"].apply(clean_data)"
   ]
  },
  {
   "cell_type": "code",
   "execution_count": 12,
   "id": "d4c3e063",
   "metadata": {},
   "outputs": [],
   "source": [
    "# model_type: word2vec, glove or fasttext\n",
    "aug = naw.WordEmbsAug(\n",
    "    model_type='glove', model_path=\"./glove.6B.100d.txt\",\n",
    "    action=\"substitute\")"
   ]
  },
  {
   "cell_type": "code",
   "execution_count": 26,
   "id": "6cdf9495",
   "metadata": {},
   "outputs": [
    {
     "name": "stderr",
     "output_type": "stream",
     "text": [
      "2236it [14:43,  2.53it/s]\n"
     ]
    }
   ],
   "source": [
    "aug_data = {}\n",
    "for ques,ans in tqdm(zip(df['question'],df['answer'])):\n",
    "    for i in range(4):\n",
    "        aug_data.update({aug.augment(ques):ans})"
   ]
  },
  {
   "cell_type": "code",
   "execution_count": 57,
   "id": "46d7cea2",
   "metadata": {},
   "outputs": [
    {
     "data": {
      "text/html": [
       "<div>\n",
       "<style scoped>\n",
       "    .dataframe tbody tr th:only-of-type {\n",
       "        vertical-align: middle;\n",
       "    }\n",
       "\n",
       "    .dataframe tbody tr th {\n",
       "        vertical-align: top;\n",
       "    }\n",
       "\n",
       "    .dataframe thead th {\n",
       "        text-align: right;\n",
       "    }\n",
       "</style>\n",
       "<table border=\"1\" class=\"dataframe\">\n",
       "  <thead>\n",
       "    <tr style=\"text-align: right;\">\n",
       "      <th></th>\n",
       "      <th>question</th>\n",
       "      <th>answer</th>\n",
       "    </tr>\n",
       "  </thead>\n",
       "  <tbody>\n",
       "    <tr>\n",
       "      <th>0</th>\n",
       "      <td>how cannot i change my password</td>\n",
       "      <td>After you have logged in, you can change your ...</td>\n",
       "    </tr>\n",
       "    <tr>\n",
       "      <th>1</th>\n",
       "      <td>how do got change my password</td>\n",
       "      <td>After you have logged in, you can change your ...</td>\n",
       "    </tr>\n",
       "    <tr>\n",
       "      <th>2</th>\n",
       "      <td>how do i change kids password</td>\n",
       "      <td>After you have logged in, you can change your ...</td>\n",
       "    </tr>\n",
       "    <tr>\n",
       "      <th>3</th>\n",
       "      <td>how things i change my password</td>\n",
       "      <td>After you have logged in, you can change your ...</td>\n",
       "    </tr>\n",
       "    <tr>\n",
       "      <th>4</th>\n",
       "      <td>when will i receive my changed pcmcia stripe</td>\n",
       "      <td>You will receive your new ATM PIN by post with...</td>\n",
       "    </tr>\n",
       "  </tbody>\n",
       "</table>\n",
       "</div>"
      ],
      "text/plain": [
       "                                       question  \\\n",
       "0               how cannot i change my password   \n",
       "1                 how do got change my password   \n",
       "2                 how do i change kids password   \n",
       "3               how things i change my password   \n",
       "4  when will i receive my changed pcmcia stripe   \n",
       "\n",
       "                                              answer  \n",
       "0  After you have logged in, you can change your ...  \n",
       "1  After you have logged in, you can change your ...  \n",
       "2  After you have logged in, you can change your ...  \n",
       "3  After you have logged in, you can change your ...  \n",
       "4  You will receive your new ATM PIN by post with...  "
      ]
     },
     "execution_count": 57,
     "metadata": {},
     "output_type": "execute_result"
    }
   ],
   "source": [
    "aug_df = pd.DataFrame(aug_data.items(),columns=['question','answer'])\n",
    "aug_df.head()"
   ]
  },
  {
   "cell_type": "code",
   "execution_count": 61,
   "id": "945c1fc5",
   "metadata": {},
   "outputs": [],
   "source": [
    "final_df = pd.concat([df,aug_df])"
   ]
  },
  {
   "cell_type": "code",
   "execution_count": 94,
   "id": "172aafbb",
   "metadata": {},
   "outputs": [],
   "source": [
    "final_df.to_csv(\"augmented.csv\",index=False)"
   ]
  },
  {
   "cell_type": "markdown",
   "id": "ff11c0d0",
   "metadata": {},
   "source": [
    "## Modelling"
   ]
  },
  {
   "cell_type": "code",
   "execution_count": 14,
   "id": "a41d8abd",
   "metadata": {},
   "outputs": [],
   "source": [
    "final_df = pd.read_csv(\"augmented.csv\")"
   ]
  },
  {
   "cell_type": "code",
   "execution_count": 15,
   "id": "cfe76f64",
   "metadata": {},
   "outputs": [],
   "source": [
    "X = final_df['question']\n",
    "y = final_df['answer']"
   ]
  },
  {
   "cell_type": "code",
   "execution_count": 16,
   "id": "03b2d465",
   "metadata": {},
   "outputs": [],
   "source": [
    "le = LabelEncoder()"
   ]
  },
  {
   "cell_type": "code",
   "execution_count": 17,
   "id": "53a7eab1",
   "metadata": {},
   "outputs": [],
   "source": [
    "y = le.fit_transform(y)"
   ]
  },
  {
   "cell_type": "code",
   "execution_count": 18,
   "id": "b76c94a6",
   "metadata": {},
   "outputs": [],
   "source": [
    "X_train, X_test, y_train, y_test = train_test_split(X,y,random_state=100,test_size=0.2,stratify=y)"
   ]
  },
  {
   "cell_type": "code",
   "execution_count": 19,
   "id": "e4bb8b8b",
   "metadata": {},
   "outputs": [],
   "source": [
    "tf = TfidfVectorizer(ngram_range=(1, 3),min_df=0,stop_words='english')\n",
    "X_train_tf = tf.fit_transform(X_train)"
   ]
  },
  {
   "cell_type": "code",
   "execution_count": 20,
   "id": "c34edc0d",
   "metadata": {},
   "outputs": [],
   "source": [
    "X_test_tf = tf.transform(X_test)"
   ]
  },
  {
   "cell_type": "code",
   "execution_count": 21,
   "id": "8f1764f3",
   "metadata": {},
   "outputs": [
    {
     "data": {
      "text/plain": [
       "SGDClassifier(alpha=0.0005, loss='modified_huber', n_jobs=-1, random_state=100)"
      ]
     },
     "execution_count": 21,
     "metadata": {},
     "output_type": "execute_result"
    }
   ],
   "source": [
    "model = SGDClassifier(n_jobs=-1,random_state=100,loss='modified_huber',alpha=0.0005)\n",
    "model.fit(X_train_tf,y_train)"
   ]
  },
  {
   "cell_type": "code",
   "execution_count": 23,
   "id": "ed20e515",
   "metadata": {},
   "outputs": [],
   "source": [
    "y_pred = model.predict(X_test_tf)"
   ]
  },
  {
   "cell_type": "code",
   "execution_count": 40,
   "id": "85ce3bc4",
   "metadata": {},
   "outputs": [],
   "source": [
    "labels = np.unique(y_test)\n",
    "ytest_prob = label_binarize(y_test, classes=labels)\n",
    "ypred_prob = label_binarize(y_pred, classes=labels)"
   ]
  },
  {
   "cell_type": "code",
   "execution_count": 53,
   "id": "5b94dc76",
   "metadata": {},
   "outputs": [
    {
     "name": "stdout",
     "output_type": "stream",
     "text": [
      "Accuracy Score: 0.8125279642058165\n",
      "Precision Score: 0.8125279642058165\n",
      "Recall Score: 0.8125279642058165\n",
      "ROC-AUC Score: 0.906220545579323\n"
     ]
    }
   ],
   "source": [
    "print(\"Accuracy Score:\",accuracy_score(y_test,y_pred))\n",
    "print(\"Precision Score:\",precision_score(y_test,y_pred,average='micro'))\n",
    "print(\"Recall Score:\",recall_score(y_test,y_pred,average='micro'))\n",
    "print(\"ROC-AUC Score:\",roc_auc_score(ytest_prob,ypred_prob,multi_class='ovo',average='micro'))"
   ]
  },
  {
   "cell_type": "markdown",
   "id": "52f14335",
   "metadata": {},
   "source": [
    "## Testing"
   ]
  },
  {
   "cell_type": "code",
   "execution_count": 38,
   "id": "929a9a6b",
   "metadata": {},
   "outputs": [
    {
     "name": "stdout",
     "output_type": "stream",
     "text": [
      "Question: do i need a coapplicant for the loan education loan for indian education\n",
      "\n",
      "Predicted Answer:\n",
      "Yes a co applicant is required for all full time courses. Co-applicant could be Parent/ Guardian or Spouse/ Parent-in-law (if married)\n",
      "\n",
      "Actual Answer:\n",
      "Yes a co applicant is required for all full time courses. Co-applicant could be Parent/ Guardian or Spouse/ Parent-in-law (if married)\n"
     ]
    }
   ],
   "source": [
    "idx = 7\n",
    "print(f\"Question: {X_test.iloc[idx]}\")\n",
    "print(f\"\\nPredicted Answer:\\n{le.inverse_transform(model.predict(X_test_tf[idx]))[0]}\")\n",
    "print(f\"\\nActual Answer:\\n{le.inverse_transform([y_test[idx]])[0]}\")"
   ]
  },
  {
   "cell_type": "code",
   "execution_count": 88,
   "id": "57129586",
   "metadata": {},
   "outputs": [
    {
     "name": "stdout",
     "output_type": "stream",
     "text": [
      "Question: how to open new savings account\n",
      "\n",
      "Predicted Answer:\n",
      "In order to open a new Savings Account, simply walk into the nearest HDFC Bank and speak to a customer service executive. Remember to carry the following documents (original for verification and self-attested copies for submission):Identity ProofAddress ProofLatest passport size photographsClick here to see the List of valid identity/addres proof.\n"
     ]
    }
   ],
   "source": [
    "questn = \"how to open new savings account\"\n",
    "clean_ques = clean_data(questn)\n",
    "clean_ques = tf.transform([clean_ques])\n",
    "print(f\"Question: {questn}\")\n",
    "if np.amax(model.predict_proba(clean_ques))>0.1:\n",
    "    print(f\"\\nPredicted Answer:\\n{le.inverse_transform(model.predict(clean_ques))[0]}\")\n",
    "else:\n",
    "    print(f\"\\nPredicted Answer:\\n(Not sure about your question, This might help you):\\n\\n{le.inverse_transform(model.predict(clean_ques))[0]}\")"
   ]
  }
 ],
 "metadata": {
  "kernelspec": {
   "display_name": "Python 3",
   "language": "python",
   "name": "python3"
  },
  "language_info": {
   "codemirror_mode": {
    "name": "ipython",
    "version": 3
   },
   "file_extension": ".py",
   "mimetype": "text/x-python",
   "name": "python",
   "nbconvert_exporter": "python",
   "pygments_lexer": "ipython3",
   "version": "3.7.10"
  }
 },
 "nbformat": 4,
 "nbformat_minor": 5
}
